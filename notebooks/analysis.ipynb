{
 "cells": [
  {
   "cell_type": "markdown",
   "id": "1b017b3b",
   "metadata": {},
   "source": [
    "# Analysis Titanic Desaster"
   ]
  },
  {
   "cell_type": "code",
   "execution_count": null,
   "id": "060d52ff",
   "metadata": {},
   "outputs": [],
   "source": [
    "import pandas as pd\n",
    "import numpy as np"
   ]
  },
  {
   "cell_type": "code",
   "execution_count": null,
   "id": "fdca625f",
   "metadata": {},
   "outputs": [],
   "source": [
    "# Load Dataset\n",
    "train_data = pd.read_csv('../data/train.csv')\n",
    "test_data = pd.read_csv('../data/test.csv')"
   ]
  },
  {
   "cell_type": "code",
   "execution_count": null,
   "id": "8f608d6b",
   "metadata": {},
   "outputs": [],
   "source": [
    "# Display Dataset Information\n",
    "train_data.info()\n",
    "train_data.head()"
   ]
  }
 ],
 "metadata": {
  "kernelspec": {
   "display_name": "base",
   "language": "python",
   "name": "python3"
  },
  "language_info": {
   "codemirror_mode": {
    "name": "ipython",
    "version": 3
   },
   "file_extension": ".py",
   "mimetype": "text/x-python",
   "name": "python",
   "nbconvert_exporter": "python",
   "pygments_lexer": "ipython3",
   "version": "3.11.5"
  }
 },
 "nbformat": 4,
 "nbformat_minor": 5
}
