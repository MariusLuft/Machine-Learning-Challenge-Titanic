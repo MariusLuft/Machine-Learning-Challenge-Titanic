{
 "cells": [
  {
   "cell_type": "markdown",
   "id": "1b017b3b",
   "metadata": {},
   "source": [
    "# Analysis Titanic Desaster"
   ]
  },
  {
   "cell_type": "code",
   "execution_count": null,
   "id": "060d52ff",
   "metadata": {},
   "outputs": [],
   "source": [
    "import pandas as pd\n",
    "import numpy as np\n",
    "import matplotlib.pyplot as plt\n",
    "import seaborn as sns"
   ]
  },
  {
   "cell_type": "markdown",
   "id": "c94c192e",
   "metadata": {},
   "source": [
    "## Overview"
   ]
  },
  {
   "cell_type": "code",
   "execution_count": null,
   "id": "fdca625f",
   "metadata": {},
   "outputs": [],
   "source": [
    "train_data = pd.read_csv('../data/train.csv')\n",
    "test_data = pd.read_csv('../data/test.csv')"
   ]
  },
  {
   "cell_type": "code",
   "execution_count": null,
   "id": "8f608d6b",
   "metadata": {},
   "outputs": [],
   "source": [
    "train_data.info()"
   ]
  },
  {
   "cell_type": "code",
   "execution_count": null,
   "id": "c1f5ebc2",
   "metadata": {},
   "outputs": [],
   "source": [
    "train_data.head()"
   ]
  },
  {
   "cell_type": "code",
   "execution_count": null,
   "id": "d9d11b2a",
   "metadata": {},
   "outputs": [],
   "source": [
    "train_data.describe()"
   ]
  },
  {
   "cell_type": "markdown",
   "id": "5936df61",
   "metadata": {},
   "source": [
    "## Survival Rate by Passenger Class"
   ]
  },
  {
   "cell_type": "code",
   "execution_count": null,
   "id": "8d67191a",
   "metadata": {},
   "outputs": [],
   "source": [
    "sns.barplot(x='Pclass', y='Survived', data=train_data, ci=None)\n",
    "plt.title('Survival Rate by Passenger Class')\n",
    "plt.ylabel('Survival Rate')\n",
    "plt.xlabel('Passenger Class')\n",
    "plt.show()"
   ]
  },
  {
   "cell_type": "markdown",
   "id": "765be04b",
   "metadata": {},
   "source": [
    "## Survival Rate by Sex"
   ]
  },
  {
   "cell_type": "code",
   "execution_count": null,
   "id": "57969cd6",
   "metadata": {},
   "outputs": [],
   "source": [
    "sns.barplot(x='Sex', y='Survived', data=train_data, ci=None)\n",
    "plt.title('Survival Rate by Sex')\n",
    "plt.ylabel('Survival Rate')\n",
    "plt.xlabel('Sex')\n",
    "plt.show()"
   ]
  },
  {
   "cell_type": "markdown",
   "id": "db7d003d",
   "metadata": {},
   "source": [
    "## Survival Rate by Number of Siblings/Spouses (SibSp)"
   ]
  },
  {
   "cell_type": "code",
   "execution_count": null,
   "id": "a3331f68",
   "metadata": {},
   "outputs": [],
   "source": [
    "sns.barplot(x='SibSp', y='Survived', data=train_data, ci=None)\n",
    "plt.title('Survival Rate by Number of Siblings/Spouses')\n",
    "plt.ylabel('Survival Rate')\n",
    "plt.xlabel('SibSp')\n",
    "plt.show()"
   ]
  },
  {
   "cell_type": "markdown",
   "id": "057c991b",
   "metadata": {},
   "source": [
    "## Survival Rate by Number of Parents/Children (Parch)"
   ]
  },
  {
   "cell_type": "code",
   "execution_count": null,
   "id": "b8769676",
   "metadata": {},
   "outputs": [],
   "source": [
    "sns.barplot(x='Parch', y='Survived', data=train_data, ci=None)\n",
    "plt.title('Survival Rate by Number of Parents/Children')\n",
    "plt.ylabel('Survival Rate')\n",
    "plt.xlabel('Parch')\n",
    "plt.show()"
   ]
  },
  {
   "cell_type": "markdown",
   "id": "032dc51a",
   "metadata": {},
   "source": [
    "## Survival Rate by Place of Embarkation"
   ]
  },
  {
   "cell_type": "code",
   "execution_count": null,
   "id": "f1931647",
   "metadata": {},
   "outputs": [],
   "source": [
    "sns.barplot(x='Embarked', y='Survived', data=train_data, ci=None)\n",
    "plt.title('Survival Rate by Place of Embarkation')\n",
    "plt.ylabel('Survival Rate')\n",
    "plt.xlabel('Place of Embarkation')\n",
    "plt.show()"
   ]
  },
  {
   "cell_type": "markdown",
   "id": "55b8f55b",
   "metadata": {},
   "source": [
    "## Smoothed Survival Rate by Age"
   ]
  },
  {
   "cell_type": "code",
   "execution_count": null,
   "id": "74d7f612",
   "metadata": {},
   "outputs": [],
   "source": [
    "age_survival = train_data.groupby('Age')['Survived'].mean()\n",
    "age_survival_smooth = age_survival.rolling(window=5, min_periods=1, center=True).mean()\n",
    "\n",
    "plt.figure(figsize=(10, 5))\n",
    "plt.plot(age_survival.index, age_survival_smooth, color='steelblue', linewidth=2)\n",
    "plt.title('Smoothed Survival Rate by Age')\n",
    "plt.xlabel('Age')\n",
    "plt.ylabel('Survival Rate')\n",
    "plt.ylim(0, 1)\n",
    "plt.grid(True, linestyle='--', alpha=0.5)\n",
    "plt.tight_layout()\n",
    "plt.show()"
   ]
  },
  {
   "cell_type": "markdown",
   "id": "bedef04e",
   "metadata": {},
   "source": [
    "## Smoothed Survival Rate by Fare"
   ]
  },
  {
   "cell_type": "code",
   "execution_count": null,
   "id": "5ba67b6d",
   "metadata": {},
   "outputs": [],
   "source": [
    "fare_survival = train_data.groupby('Fare')['Survived'].mean()\n",
    "fare_survival_smooth = fare_survival.rolling(window=15, min_periods=1, center=True).mean()\n",
    "\n",
    "plt.figure(figsize=(10, 5))\n",
    "plt.plot(fare_survival.index, fare_survival_smooth, color='darkorange', linewidth=2)\n",
    "plt.title('Smoothed Survival Rate by Fare')\n",
    "plt.xlabel('Fare')\n",
    "plt.ylabel('Survival Rate')\n",
    "plt.ylim(0, 1)\n",
    "plt.xlim(0, 300)  # Zoom in on x-axis from 0 to 300\n",
    "plt.grid(True, linestyle='--', alpha=0.5)\n",
    "plt.tight_layout()\n",
    "plt.show()"
   ]
  },
  {
   "cell_type": "markdown",
   "id": "3d713801",
   "metadata": {},
   "source": [
    "## Survival Rate by Cabin"
   ]
  },
  {
   "cell_type": "code",
   "execution_count": null,
   "id": "863c38a6",
   "metadata": {},
   "outputs": [],
   "source": [
    "cabin_data = train_data.dropna(subset=['Cabin']).copy()\n",
    "cabin_data['Cabin'] = cabin_data['Cabin'].apply(lambda x: x.split()[0])\n",
    "\n",
    "# Find the top 5 most frequent cabins\n",
    "top5_cabins = cabin_data['Cabin'].value_counts().head(5).index\n",
    "\n",
    "# Calculate survival rate for each of these cabins\n",
    "top5_cabin_survival = cabin_data[cabin_data['Cabin'].isin(top5_cabins)].groupby('Cabin')['Survived'].mean().sort_values(ascending=False)\n",
    "\n",
    "print(\"Top 5 cabins and their survival rates:\")\n",
    "print(top5_cabin_survival)"
   ]
  }
 ],
 "metadata": {
  "kernelspec": {
   "display_name": ".venv",
   "language": "python",
   "name": "python3"
  },
  "language_info": {
   "codemirror_mode": {
    "name": "ipython",
    "version": 3
   },
   "file_extension": ".py",
   "mimetype": "text/x-python",
   "name": "python",
   "nbconvert_exporter": "python",
   "pygments_lexer": "ipython3",
   "version": "3.9.0"
  }
 },
 "nbformat": 4,
 "nbformat_minor": 5
}
