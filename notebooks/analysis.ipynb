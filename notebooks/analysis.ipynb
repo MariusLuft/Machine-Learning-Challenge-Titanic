{
 "cells": [
  {
   "cell_type": "markdown",
   "id": "1b017b3b",
   "metadata": {},
   "source": [
    "# Analysis Titanic Desaster"
   ]
  },
  {
   "cell_type": "code",
   "execution_count": null,
   "id": "060d52ff",
   "metadata": {},
   "outputs": [],
   "source": [
    "import pandas as pd\n",
    "import numpy as np\n",
    "import matplotlib.pyplot as plt\n",
    "import seaborn as sns"
   ]
  },
  {
   "cell_type": "markdown",
   "id": "c94c192e",
   "metadata": {},
   "source": [
    "## Overview"
   ]
  },
  {
   "cell_type": "code",
   "execution_count": null,
   "id": "fdca625f",
   "metadata": {},
   "outputs": [],
   "source": [
    "train_data = pd.read_csv('../data/train.csv')\n",
    "test_data = pd.read_csv('../data/test.csv')"
   ]
  },
  {
   "cell_type": "code",
   "execution_count": null,
   "id": "8f608d6b",
   "metadata": {},
   "outputs": [],
   "source": [
    "train_data.info()"
   ]
  },
  {
   "cell_type": "code",
   "execution_count": null,
   "id": "c1f5ebc2",
   "metadata": {},
   "outputs": [],
   "source": [
    "train_data.head()"
   ]
  },
  {
   "cell_type": "code",
   "execution_count": null,
   "id": "d9d11b2a",
   "metadata": {},
   "outputs": [],
   "source": [
    "train_data.describe()"
   ]
  },
  {
   "cell_type": "markdown",
   "id": "5936df61",
   "metadata": {},
   "source": [
    "## Survival Rate by Passenger Class"
   ]
  },
  {
   "cell_type": "code",
   "execution_count": null,
   "id": "8d67191a",
   "metadata": {},
   "outputs": [],
   "source": [
    "sns.barplot(x='Pclass', y='Survived', data=train_data, ci=None)\n",
    "plt.title('Survival Rate by Passenger Class')\n",
    "plt.ylabel('Survival Rate')\n",
    "plt.xlabel('Passenger Class')\n",
    "plt.show()"
   ]
  },
  {
   "cell_type": "markdown",
   "id": "765be04b",
   "metadata": {},
   "source": [
    "## Survival Rate by Sex"
   ]
  },
  {
   "cell_type": "code",
   "execution_count": null,
   "id": "57969cd6",
   "metadata": {},
   "outputs": [],
   "source": [
    "sns.barplot(x='Sex', y='Survived', data=train_data, ci=None)\n",
    "plt.title('Survival Rate by Sex')\n",
    "plt.ylabel('Survival Rate')\n",
    "plt.xlabel('Sex')\n",
    "plt.show()"
   ]
  },
  {
   "cell_type": "markdown",
   "id": "db7d003d",
   "metadata": {},
   "source": [
    "## Survival Rate by Number of Siblings/Spouses (SibSp)"
   ]
  },
  {
   "cell_type": "code",
   "execution_count": null,
   "id": "a3331f68",
   "metadata": {},
   "outputs": [],
   "source": [
    "sns.barplot(x='SibSp', y='Survived', data=train_data, ci=None)\n",
    "plt.title('Survival Rate by Number of Siblings/Spouses')\n",
    "plt.ylabel('Survival Rate')\n",
    "plt.xlabel('SibSp')\n",
    "plt.show()"
   ]
  },
  {
   "cell_type": "markdown",
   "id": "057c991b",
   "metadata": {},
   "source": [
    "## Survival Rate by Number of Parents/Children (Parch)"
   ]
  },
  {
   "cell_type": "code",
   "execution_count": null,
   "id": "b8769676",
   "metadata": {},
   "outputs": [],
   "source": [
    "sns.barplot(x='Parch', y='Survived', data=train_data, ci=None)\n",
    "plt.title('Survival Rate by Number of Parents/Children')\n",
    "plt.ylabel('Survival Rate')\n",
    "plt.xlabel('Parch')\n",
    "plt.show()"
   ]
  },
  {
   "cell_type": "markdown",
   "id": "55b8f55b",
   "metadata": {},
   "source": [
    "## Ages of dead and survivors"
   ]
  },
  {
   "cell_type": "code",
   "execution_count": null,
   "id": "74d7f612",
   "metadata": {},
   "outputs": [],
   "source": [
    "# Plot a histogram of Age for survivors only, normalized to probability\n",
    "sns.histplot(train_data[train_data['Survived'] == 1]['Age'], bins=20, stat='probability')\n",
    "plt.title('Age Distribution of Survivors (Probability)')\n",
    "plt.xlabel('Age')\n",
    "plt.ylabel('Probability')\n",
    "plt.show()"
   ]
  },
  {
   "cell_type": "code",
   "execution_count": null,
   "id": "308bd207",
   "metadata": {},
   "outputs": [],
   "source": [
    "# Histogram of Age for non-survivors (dead people), normalized to probability\n",
    "sns.histplot(train_data[train_data['Survived'] == 0]['Age'], bins=20, stat='probability', color='red')\n",
    "plt.title('Age Distribution of Non-Survivors (Probability)')\n",
    "plt.xlabel('Age')\n",
    "plt.ylabel('Probability')\n",
    "plt.show()"
   ]
  }
 ],
 "metadata": {
  "kernelspec": {
   "display_name": ".venv",
   "language": "python",
   "name": "python3"
  },
  "language_info": {
   "codemirror_mode": {
    "name": "ipython",
    "version": 3
   },
   "file_extension": ".py",
   "mimetype": "text/x-python",
   "name": "python",
   "nbconvert_exporter": "python",
   "pygments_lexer": "ipython3",
   "version": "3.9.0"
  }
 },
 "nbformat": 4,
 "nbformat_minor": 5
}
